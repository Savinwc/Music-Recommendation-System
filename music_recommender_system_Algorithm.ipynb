{
  "nbformat": 4,
  "nbformat_minor": 0,
  "metadata": {
    "colab": {
      "provenance": []
    },
    "kernelspec": {
      "name": "python3",
      "display_name": "Python 3"
    },
    "language_info": {
      "name": "python"
    }
  },
  "cells": [
    {
      "cell_type": "code",
      "execution_count": 2,
      "metadata": {
        "colab": {
          "base_uri": "https://localhost:8080/"
        },
        "id": "r0ov5mgrbPtv",
        "outputId": "224b8f64-d879-44cd-8779-fb964e454fee"
      },
      "outputs": [
        {
          "output_type": "stream",
          "name": "stdout",
          "text": [
            "Looking in indexes: https://pypi.org/simple, https://us-python.pkg.dev/colab-wheels/public/simple/\n",
            "Collecting implicit\n",
            "  Downloading implicit-0.6.2-cp38-cp38-manylinux2014_x86_64.whl (18.6 MB)\n",
            "\u001b[K     |████████████████████████████████| 18.6 MB 1.2 MB/s \n",
            "\u001b[?25hRequirement already satisfied: numpy in /usr/local/lib/python3.8/dist-packages (from implicit) (1.21.6)\n",
            "Requirement already satisfied: tqdm>=4.27 in /usr/local/lib/python3.8/dist-packages (from implicit) (4.64.1)\n",
            "Requirement already satisfied: scipy>=0.16 in /usr/local/lib/python3.8/dist-packages (from implicit) (1.7.3)\n",
            "Installing collected packages: implicit\n",
            "Successfully installed implicit-0.6.2\n"
          ]
        }
      ],
      "source": [
        "!pip3 install --user 'implicit'"
      ]
    },
    {
      "cell_type": "code",
      "source": [
        "%matplotlib inline\n",
        "import os\n",
        "import sys\n",
        "import re\n",
        "import random\n",
        "import matplotlib\n",
        "import implicit\n",
        "\n",
        "import matplotlib.pyplot as plt\n",
        "import pandas as pd\n",
        "import numpy as np\n",
        "\n",
        "from time import time\n",
        "\n",
        "os.environ[\"OPENBLAS_NUM_THREADS\"] = \"1\"   \n",
        "\n",
        "base = \"/mnt/datasets/lastfm/\""
      ],
      "metadata": {
        "id": "EosgtJDAbbbm"
      },
      "execution_count": null,
      "outputs": []
    },
    {
      "cell_type": "code",
      "source": [
        "userArtistDF = pd.read_csv(base + 'user_artist_data.txt', \n",
        "                           sep=' ', \n",
        "                           header=None, \n",
        "                           names=['userID', 'artistID', 'playCount'])\n",
        "\n",
        "userArtistDF['userID'] = userArtistDF['userID'].astype(np.int64, errors='ignore')\n",
        "userArtistDF['artistID'] = userArtistDF['artistID'].astype(np.int64, errors='ignore')\n",
        "userArtistDF['playCount'] = userArtistDF['playCount'].astype(np.int32, errors='ignore')\n",
        "\n",
        "userArtistDF[:5]"
      ],
      "metadata": {
        "id": "Yfa1iXflbl78"
      },
      "execution_count": null,
      "outputs": []
    },
    {
      "cell_type": "code",
      "source": [
        "uniqueUsers = userArtistDF['userID'].nunique()\n",
        "print(\"Total n. of users: \", uniqueUsers)"
      ],
      "metadata": {
        "id": "GYDVCZMjbtcK"
      },
      "execution_count": null,
      "outputs": []
    },
    {
      "cell_type": "code",
      "source": [
        "uniqueArtists = userArtistDF['artistID'].nunique()\n",
        "print(\"Total n. of users: \", uniqueArtists)"
      ],
      "metadata": {
        "id": "XDVImJvlbyMR"
      },
      "execution_count": null,
      "outputs": []
    },
    {
      "cell_type": "code",
      "source": [
        "userActivity= userArtistDF.groupby('userID')['playCount'].sum()\n",
        "print(userActivity[0:5])"
      ],
      "metadata": {
        "id": "dCFV62rgb0vE"
      },
      "execution_count": null,
      "outputs": []
    },
    {
      "cell_type": "code",
      "source": [
        "XX = df['playCount']\n",
        "YY = np.arange(len(XX))/float(len(XX))\n",
        "\n",
        "\n",
        "per = [10, 25, 50, 75, 90]\n",
        "colors = ['royalblue','mediumblue','darkblue','navy','black']\n",
        "rank = [int(x / 100 * (len(YY) + 1)) for x in per]\n",
        "rplot = [YY[x] for x in rank]\n",
        "pervalues_users = [XX[x] for x in rank]\n",
        "\n",
        "plt.figure(figsize=(12, 6))\n",
        "\n",
        "\n",
        "ax = plt.subplot()\n",
        "ax.set_xscale(\"log\")\n",
        "plt.plot(XX, YY)\n",
        "\n",
        " \n",
        "plt.scatter(pervalues_users,\n",
        "            rplot, \n",
        "            c = colors,\n",
        "            marker = 'o')\n",
        "ax.vlines(pervalues_users, [0], rplot, color=colors, linestyle='--')\n",
        "ax.hlines(rplot, [0], pervalues_users, color=colors, linestyle='--')\n",
        "for i in range(len(rplot)):\n",
        "    ax.annotate(\"  \" + str(pervalues_users[i]), (pervalues_users[i], rplot[i]))\n",
        "    \n",
        "plt.xlabel('Play Counts in log')\n",
        "plt.ylabel('ECDF')\n",
        "plt.grid(True,which=\"both\",ls=\"-\")\n",
        "plt.title('ECDF of number of play counts per User ID')\n",
        "plt.show()\n",
        "\n",
        "\n",
        "plt.figure(figsize=(12, 10))\n",
        "plt.boxplot(XX)\n",
        "plt.yscale('log')\n",
        "plt.ylabel('Play Counts in log')\n",
        "plt.title('The statistical distribution')\n",
        "plt.show()"
      ],
      "metadata": {
        "id": "DUPPKVZib3ta"
      },
      "execution_count": null,
      "outputs": []
    },
    {
      "cell_type": "code",
      "source": [
        "artistPopularity = userArtistDF.groupby('artistID')['playCount'].sum()\n",
        "\n",
        "\n",
        "df = artistPopularity.to_frame().sort_values(by=['playCount']).reset_index() \n",
        "print(df.quantile([0.1,0.2,0.3,0.4,0.5,0.6,0.7,0.8,0.9,1.0])) \n",
        "\n",
        "XX = df['playCount']\n",
        "YY = np.arange(len(XX))/float(len(XX))\n",
        "\n",
        "per = [10, 25, 50, 75, 90]\n",
        "colors = ['royalblue','mediumblue','darkblue','navy','black']\n",
        "rank = [int(x / 100 * (len(YY) + 1)) for x in per]\n",
        "rplot = [YY[x] for x in rank]\n",
        "pervalues_users = [XX[x] for x in rank]\n",
        "\n",
        "plt.figure(figsize=(12, 6))\n",
        "\n",
        "ax = plt.subplot()\n",
        "ax.set_xscale(\"log\")\n",
        "plt.plot(XX, YY)\n",
        "\n",
        "\n",
        "plt.scatter(pervalues_users,\n",
        "            rplot, \n",
        "            c = colors,\n",
        "            marker = 'o')\n",
        "ax.vlines(pervalues_users, [0], rplot, color=colors, linestyle='--')\n",
        "ax.hlines(rplot, [0], pervalues_users, color=colors, linestyle='--')\n",
        "for i in range(len(rplot)):\n",
        "    ax.annotate(\"  \" + str(pervalues_users[i]), (pervalues_users[i], rplot[i]))\n",
        "    \n",
        "plt.xlabel('Play Counts in log')\n",
        "plt.ylabel('ECDF')\n",
        "plt.grid(True,which=\"both\",ls=\"-\")\n",
        "plt.title('ECDF of number of play counts per Artist ID')\n",
        "plt.show()\n",
        "\n",
        "\n",
        "plt.figure(figsize=(12, 10))\n",
        "plt.boxplot(XX)\n",
        "plt.yscale('log')\n",
        "plt.ylabel('Play Counts in log')\n",
        "plt.title('The statistical distribution')\n",
        "plt.show()"
      ],
      "metadata": {
        "id": "zZYu2kyQcCNe"
      },
      "execution_count": null,
      "outputs": []
    },
    {
      "cell_type": "code",
      "source": [
        "topN = 10\n",
        "topNArtist = df[-topN:]\n",
        "print(topNArtist)\n",
        "\n",
        "\n",
        "plt.barh(range(len(topNArtist)),topNArtist['playCount'])\n",
        "plt.yticks(range(len(topNArtist)), topNArtist['artistID'])\n",
        "\n",
        "plt.xlabel('Play Counts')\n",
        "plt.ylabel('Artist')\n",
        "plt.title('Top-10 Artist ID per play counts')\n",
        "plt.grid(True,which=\"both\",ls=\"-\")\n",
        "\n",
        "plt.show()"
      ],
      "metadata": {
        "id": "_aC63oMrcR5u"
      },
      "execution_count": null,
      "outputs": []
    },
    {
      "cell_type": "code",
      "source": [
        "artistDF = pd.read_csv(base + 'artist_data.txt', \n",
        "                           sep='\\t', \n",
        "                           header=None, \n",
        "                           names=['artistID', 'name'])\n",
        "\n",
        "artistDF['artistID'] = artistDF['artistID'].astype(np.int64, errors='ignore')\n",
        "artistDF['name'] = artistDF['name'].astype(np.str, errors='ignore')\n",
        "\n",
        "artistDF = artistDF.dropna()\n",
        "pd.to_numeric(artistDF['name'],errors='ignore')\n",
        "\n",
        "artistDF[:5]"
      ],
      "metadata": {
        "id": "-borx2recTUw"
      },
      "execution_count": null,
      "outputs": []
    },
    {
      "cell_type": "code",
      "source": [
        "artistDF[artistDF['name'].str.contains('Aerosmith')][:20]"
      ],
      "metadata": {
        "id": "P0M5NvhTcZQ0"
      },
      "execution_count": null,
      "outputs": []
    },
    {
      "cell_type": "code",
      "source": [
        "artistDF[artistDF['artistID'] == '1000010']"
      ],
      "metadata": {
        "id": "4TnYXjOcccG6"
      },
      "execution_count": null,
      "outputs": []
    },
    {
      "cell_type": "code",
      "source": [
        "artistDF[artistDF['artistID'] == '2082323']"
      ],
      "metadata": {
        "id": "9i-bDYuLcfcq"
      },
      "execution_count": null,
      "outputs": []
    },
    {
      "cell_type": "code",
      "source": [
        "artistAliasDF = pd.read_csv(base + 'artist_alias.txt', \n",
        "                           sep='\\t', \n",
        "                           header=None, \n",
        "                           names=['misspelledArtistID', 'standardArtistID'])\n",
        "\n",
        "artistAliasDF['misspelledArtistID'] = artistAliasDF['misspelledArtistID'].astype(np.int64, errors='ignore')\n",
        "artistAliasDF['standardArtistID'] = artistAliasDF['standardArtistID'].astype(np.int64, errors='ignore')\n",
        "\n",
        "\n",
        "artistAliasDF[:5]"
      ],
      "metadata": {
        "id": "Ml65Hq2kckr4"
      },
      "execution_count": null,
      "outputs": []
    },
    {
      "cell_type": "code",
      "source": [
        "artistAliasDF[artistAliasDF['misspelledArtistID'] == 1000010]"
      ],
      "metadata": {
        "id": "W0j2sHVfcnLf"
      },
      "execution_count": null,
      "outputs": []
    },
    {
      "cell_type": "code",
      "source": [
        "artistAliasDF[artistAliasDF['misspelledArtistID'] == 2082323]"
      ],
      "metadata": {
        "id": "EqjtBXmacrgi"
      },
      "execution_count": null,
      "outputs": []
    },
    {
      "cell_type": "code",
      "source": [
        "t0 = time()\n",
        "\n",
        "newUserArtistDF = pd.merge(userArtistDF, artistAliasDF, left_on='artistID', right_on='misspelledArtistID', how='left')\n",
        "\n",
        "newUserArtistDF.loc[newUserArtistDF['misspelledArtistID'].isnull(),'standardArtistID'] = newUserArtistDF['artistID'] \n",
        "\n",
        "newUserArtistDF['realArtistID'] = newUserArtistDF['standardArtistID'].astype(np.int64)\n",
        "\n",
        "newUserArtistDF.drop(['artistID', 'standardArtistID', 'misspelledArtistID'], axis=1, inplace=True)\n",
        "\n",
        "newUserArtistDF[:5]"
      ],
      "metadata": {
        "id": "0C2zyi2Bctp_"
      },
      "execution_count": null,
      "outputs": []
    },
    {
      "cell_type": "code",
      "source": [
        "len(newUserArtistDF)"
      ],
      "metadata": {
        "id": "-Yx-RfNdc-PJ"
      },
      "execution_count": null,
      "outputs": []
    },
    {
      "cell_type": "code",
      "source": [
        "newUserArtistDF[:5]"
      ],
      "metadata": {
        "id": "dktXJip1c_M_"
      },
      "execution_count": null,
      "outputs": []
    },
    {
      "cell_type": "code",
      "source": [
        "len(newUserArtistDF)"
      ],
      "metadata": {
        "id": "V5VNpW-JdEKF"
      },
      "execution_count": null,
      "outputs": []
    },
    {
      "cell_type": "code",
      "source": [
        "assert (newUserArtistDF.groupby(['userID', 'realArtistID'], as_index=False).count()['playCount'] == 1).all(),  \\\n",
        "    'Each combination user/artist should appear only once'"
      ],
      "metadata": {
        "id": "GK6E5DH5dJxM"
      },
      "execution_count": null,
      "outputs": []
    },
    {
      "cell_type": "code",
      "source": [
        "uniqueArtists = newUserArtistDF['realArtistID'].nunique()\n",
        "print(\"Total n. of artists: \", uniqueArtists)"
      ],
      "metadata": {
        "id": "X4SfJf4sdKbO"
      },
      "execution_count": null,
      "outputs": []
    },
    {
      "cell_type": "code",
      "source": [
        "topN = 10\n",
        "\n",
        "\n",
        "artistPopularity = newUserArtistDF.groupby('realArtistID')['playCount'].sum() \n",
        "artistPopularity = artistPopularity.to_frame().reset_index()  \n",
        "artistPopularity['realArtistID'] = artistPopularity['realArtistID'].astype(str)\n",
        "\n",
        "artistPopularity = pd.merge(artistPopularity, artistDF, right_on='artistID', left_on='realArtistID', how='left')\n",
        "topNArtist = artistPopularity.sort_values(by=['playCount'], ascending=False)[:topN]\n",
        "\n",
        "\n",
        "plt.barh(range(len(topNArtist)),topNArtist['playCount'])\n",
        "plt.yticks(range(len(topNArtist)), topNArtist['name'])\n",
        "\n",
        "plt.xlabel('Play Counts')\n",
        "plt.ylabel('Artist')\n",
        "plt.title('Top-10 Artist per play counts')\n",
        "plt.grid(True,which=\"both\",ls=\"-\")\n",
        "\n",
        "plt.show()"
      ],
      "metadata": {
        "id": "_itq4BPvdOMi"
      },
      "execution_count": null,
      "outputs": []
    }
  ]
}